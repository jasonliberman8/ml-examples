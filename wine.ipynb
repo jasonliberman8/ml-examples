{
 "cells": [
  {
   "cell_type": "markdown",
   "metadata": {
    "collapsed": true
   },
   "source": [
    "# Predicting the Origin of Wine - ML 101 with Examples"
   ]
  },
  {
   "cell_type": "markdown",
   "metadata": {},
   "source": [
    "#### Step 1: Import Packages"
   ]
  },
  {
   "cell_type": "code",
   "execution_count": 1,
   "metadata": {
    "collapsed": true
   },
   "outputs": [],
   "source": [
    "import sys\n",
    "import scipy\n",
    "import numpy\n",
    "import matplotlib\n",
    "import pandas\n",
    "import sklearn\n",
    "import pandas as pd\n",
    "from pandas.tools.plotting import scatter_matrix\n",
    "import matplotlib.pyplot as plt\n",
    "from sklearn import model_selection\n",
    "from sklearn.metrics import classification_report\n",
    "from sklearn.metrics import confusion_matrix\n",
    "from sklearn.metrics import accuracy_score\n",
    "from sklearn.linear_model import LogisticRegression\n",
    "from sklearn.tree import DecisionTreeClassifier\n",
    "from sklearn.neighbors import KNeighborsClassifier\n",
    "from sklearn.discriminant_analysis import LinearDiscriminantAnalysis\n",
    "from sklearn.naive_bayes import GaussianNB\n",
    "from sklearn.svm import SVC\n",
    "from sklearn.model_selection import train_test_split\n",
    "from sklearn import datasets, svm, metrics\n",
    "from sklearn.neural_network import MLPClassifier\n",
    "from random import randint\n"
   ]
  },
  {
   "cell_type": "markdown",
   "metadata": {},
   "source": [
    "#### Step 2: Pull in Data\n",
    "\n",
    "Pull in the data from UCI - a free repository of ML data sets:"
   ]
  },
  {
   "cell_type": "code",
   "execution_count": 2,
   "metadata": {
    "collapsed": true
   },
   "outputs": [],
   "source": [
    "url = \"https://archive.ics.uci.edu/ml/machine-learning-databases/wine/wine.data\"\n",
    "wineNames = [\"Cultivator\", \"Alcohol\", \"Malic_Acid\", \"Ash\",\n",
    "                 \"Alcalinity_of_Ash\", \"Magnesium\", \"Total_phenols\",\n",
    "                 \"Falvanoids\", \"Nonflavanoid_phenols\", \"Proanthocyanins\",\n",
    "                 \"Color_intensity\", \"Hue\", \"OD280\", \"Proline\"]\n",
    "wine = pd.read_csv(url, names = wineNames)"
   ]
  },
  {
   "cell_type": "markdown",
   "metadata": {},
   "source": [
    "#### Step 3: Construct Trainin and Test Sets\n",
    "\n",
    "Separate data into training and test sets - very important!"
   ]
  },
  {
   "cell_type": "code",
   "execution_count": 3,
   "metadata": {
    "collapsed": true
   },
   "outputs": [],
   "source": [
    "X = wine.drop('Cultivator', axis = 1)\n",
    "y = wine['Cultivator']\n",
    "\n",
    "X_train, X_test, y_train, y_test = train_test_split(X, y)"
   ]
  },
  {
   "cell_type": "markdown",
   "metadata": {},
   "source": [
    "#### Step 4: Normalize Data\n",
    "\n",
    "Normalize data to have 0 mean and unit variance"
   ]
  },
  {
   "cell_type": "code",
   "execution_count": 4,
   "metadata": {
    "collapsed": true
   },
   "outputs": [],
   "source": [
    "scaler = sklearn.preprocessing.StandardScaler()\n",
    "scaler.fit(X_train)\n",
    "\n",
    "X_train = scaler.transform(X_train)\n",
    "X_test = scaler.transform(X_test)"
   ]
  },
  {
   "cell_type": "markdown",
   "metadata": {},
   "source": [
    "So what does our data look like?"
   ]
  },
  {
   "cell_type": "code",
   "execution_count": 5,
   "metadata": {},
   "outputs": [
    {
     "name": "stdout",
     "output_type": "stream",
     "text": [
      "    Alcohol  Malic_Acid   Ash  Alcalinity_of_Ash  Magnesium\n",
      "0     14.23        1.71  2.43               15.6        127\n",
      "1     13.20        1.78  2.14               11.2        100\n",
      "2     13.16        2.36  2.67               18.6        101\n",
      "3     14.37        1.95  2.50               16.8        113\n",
      "4     13.24        2.59  2.87               21.0        118\n",
      "5     14.20        1.76  2.45               15.2        112\n",
      "6     14.39        1.87  2.45               14.6         96\n",
      "7     14.06        2.15  2.61               17.6        121\n",
      "8     14.83        1.64  2.17               14.0         97\n",
      "9     13.86        1.35  2.27               16.0         98\n",
      "10    14.10        2.16  2.30               18.0        105\n",
      "11    14.12        1.48  2.32               16.8         95\n",
      "12    13.75        1.73  2.41               16.0         89\n",
      "13    14.75        1.73  2.39               11.4         91\n",
      "14    14.38        1.87  2.38               12.0        102\n",
      "15    13.63        1.81  2.70               17.2        112\n",
      "16    14.30        1.92  2.72               20.0        120\n",
      "17    13.83        1.57  2.62               20.0        115\n",
      "18    14.19        1.59  2.48               16.5        108\n",
      "19    13.64        3.10  2.56               15.2        116\n",
      "20    14.06        1.63  2.28               16.0        126\n"
     ]
    }
   ],
   "source": [
    "print(X.loc[0:20, 'Alcohol':'Magnesium'])"
   ]
  },
  {
   "cell_type": "markdown",
   "metadata": {},
   "source": [
    "# Ok - let's learn!\n",
    "&nbsp;"
   ]
  },
  {
   "cell_type": "markdown",
   "metadata": {},
   "source": [
    "#### Algo 1: Logistic Regression"
   ]
  },
  {
   "cell_type": "code",
   "execution_count": 6,
   "metadata": {},
   "outputs": [
    {
     "name": "stdout",
     "output_type": "stream",
     "text": [
      "Accuracy of Logistic Regression model on Training Set: 1.0\n",
      "Accuracy of Logistic Regression model on Test Set: 0.977777777778\n",
      "\n",
      "\n",
      "             precision    recall  f1-score   support\n",
      "\n",
      "          1       1.00      1.00      1.00        16\n",
      "          2       1.00      0.92      0.96        12\n",
      "          3       0.94      1.00      0.97        17\n",
      "\n",
      "avg / total       0.98      0.98      0.98        45\n",
      "\n"
     ]
    }
   ],
   "source": [
    "lr = LogisticRegression()\n",
    "\n",
    "lr.fit(X_train, y_train)\n",
    "\n",
    "predictions = lr.predict(X_test)\n",
    "\n",
    "predictions_train = lr.predict(X_train)\n",
    "\n",
    "print(\"Accuracy of Logistic Regression model on Training Set: \" + str(accuracy_score(y_train, predictions_train)))\n",
    "print(\"Accuracy of Logistic Regression model on Test Set: \" + str(accuracy_score(y_test, predictions)))\n",
    "print()\n",
    "print()\n",
    "print(classification_report(y_test, predictions))\n"
   ]
  },
  {
   "cell_type": "markdown",
   "metadata": {},
   "source": [
    "#### Algo 2: Neural Network"
   ]
  },
  {
   "cell_type": "code",
   "execution_count": 9,
   "metadata": {},
   "outputs": [
    {
     "name": "stdout",
     "output_type": "stream",
     "text": [
      "Accuracy of Neural Network on Training Set: 1.0\n",
      "Accuracy of Neural Network on Test Set: 1.0\n",
      "\n",
      "\n",
      "             precision    recall  f1-score   support\n",
      "\n",
      "          1       1.00      1.00      1.00        16\n",
      "          2       1.00      1.00      1.00        12\n",
      "          3       1.00      1.00      1.00        17\n",
      "\n",
      "avg / total       1.00      1.00      1.00        45\n",
      "\n"
     ]
    }
   ],
   "source": [
    "mlp = MLPClassifier(hidden_layer_sizes = (50, 50), max_iter = 500)\n",
    "\n",
    "mlp.fit(X_train, y_train)\n",
    "\n",
    "predictions = mlp.predict(X_test)\n",
    "\n",
    "predictions_train = mlp.predict(X_train)\n",
    "\n",
    "print(\"Accuracy of Neural Network on Training Set: \" + str(accuracy_score(y_train, predictions_train)))\n",
    "print(\"Accuracy of Neural Network on Test Set: \" + str(accuracy_score(y_test, predictions)))\n",
    "print()\n",
    "print()\n",
    "print(classification_report(y_test, predictions))\n"
   ]
  },
  {
   "cell_type": "code",
   "execution_count": null,
   "metadata": {
    "collapsed": true
   },
   "outputs": [],
   "source": []
  }
 ],
 "metadata": {
  "kernelspec": {
   "display_name": "Python 3.6",
   "language": "python",
   "name": "python36"
  },
  "language_info": {
   "codemirror_mode": {
    "name": "ipython",
    "version": 3
   },
   "file_extension": ".py",
   "mimetype": "text/x-python",
   "name": "python",
   "nbconvert_exporter": "python",
   "pygments_lexer": "ipython3",
   "version": "3.6.0"
  }
 },
 "nbformat": 4,
 "nbformat_minor": 2
}
